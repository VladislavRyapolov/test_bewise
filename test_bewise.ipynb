{
 "cells": [
  {
   "cell_type": "code",
   "execution_count": 1,
   "metadata": {},
   "outputs": [],
   "source": [
    "# Импортируем библиотеки.\n",
    "\n",
    "import pandas as pd\n",
    "import numpy as np"
   ]
  },
  {
   "cell_type": "code",
   "execution_count": 2,
   "metadata": {},
   "outputs": [],
   "source": [
    "# Считываем исходный файл в дф\n",
    "\n",
    "df = pd.read_csv('test_data.csv')"
   ]
  },
  {
   "cell_type": "code",
   "execution_count": 3,
   "metadata": {},
   "outputs": [
    {
     "data": {
      "text/html": [
       "<div>\n",
       "<style scoped>\n",
       "    .dataframe tbody tr th:only-of-type {\n",
       "        vertical-align: middle;\n",
       "    }\n",
       "\n",
       "    .dataframe tbody tr th {\n",
       "        vertical-align: top;\n",
       "    }\n",
       "\n",
       "    .dataframe thead th {\n",
       "        text-align: right;\n",
       "    }\n",
       "</style>\n",
       "<table border=\"1\" class=\"dataframe\">\n",
       "  <thead>\n",
       "    <tr style=\"text-align: right;\">\n",
       "      <th></th>\n",
       "      <th>dlg_id</th>\n",
       "      <th>line_n</th>\n",
       "      <th>role</th>\n",
       "      <th>text</th>\n",
       "    </tr>\n",
       "  </thead>\n",
       "  <tbody>\n",
       "    <tr>\n",
       "      <th>0</th>\n",
       "      <td>0</td>\n",
       "      <td>0</td>\n",
       "      <td>client</td>\n",
       "      <td>Алло</td>\n",
       "    </tr>\n",
       "    <tr>\n",
       "      <th>1</th>\n",
       "      <td>0</td>\n",
       "      <td>1</td>\n",
       "      <td>manager</td>\n",
       "      <td>Алло здравствуйте</td>\n",
       "    </tr>\n",
       "    <tr>\n",
       "      <th>2</th>\n",
       "      <td>0</td>\n",
       "      <td>2</td>\n",
       "      <td>client</td>\n",
       "      <td>Добрый день</td>\n",
       "    </tr>\n",
       "    <tr>\n",
       "      <th>3</th>\n",
       "      <td>0</td>\n",
       "      <td>3</td>\n",
       "      <td>manager</td>\n",
       "      <td>Меня зовут ангелина компания диджитал бизнес з...</td>\n",
       "    </tr>\n",
       "    <tr>\n",
       "      <th>4</th>\n",
       "      <td>0</td>\n",
       "      <td>4</td>\n",
       "      <td>client</td>\n",
       "      <td>Ага</td>\n",
       "    </tr>\n",
       "  </tbody>\n",
       "</table>\n",
       "</div>"
      ],
      "text/plain": [
       "   dlg_id  line_n     role                                               text\n",
       "0       0       0   client                                               Алло\n",
       "1       0       1  manager                                  Алло здравствуйте\n",
       "2       0       2   client                                        Добрый день\n",
       "3       0       3  manager  Меня зовут ангелина компания диджитал бизнес з...\n",
       "4       0       4   client                                                Ага"
      ]
     },
     "execution_count": 3,
     "metadata": {},
     "output_type": "execute_result"
    }
   ],
   "source": [
    "df.head()"
   ]
  },
  {
   "cell_type": "markdown",
   "metadata": {},
   "source": [
    "### Задача №1. \n",
    "#### Извлечь реплики, в которых менеджер поздоровался с клиентом."
   ]
  },
  {
   "cell_type": "code",
   "execution_count": 4,
   "metadata": {},
   "outputs": [
    {
     "data": {
      "text/html": [
       "<div>\n",
       "<style scoped>\n",
       "    .dataframe tbody tr th:only-of-type {\n",
       "        vertical-align: middle;\n",
       "    }\n",
       "\n",
       "    .dataframe tbody tr th {\n",
       "        vertical-align: top;\n",
       "    }\n",
       "\n",
       "    .dataframe thead th {\n",
       "        text-align: right;\n",
       "    }\n",
       "</style>\n",
       "<table border=\"1\" class=\"dataframe\">\n",
       "  <thead>\n",
       "    <tr style=\"text-align: right;\">\n",
       "      <th></th>\n",
       "      <th>dlg_id</th>\n",
       "      <th>line_n</th>\n",
       "      <th>role</th>\n",
       "      <th>text</th>\n",
       "    </tr>\n",
       "  </thead>\n",
       "  <tbody>\n",
       "    <tr>\n",
       "      <th>0</th>\n",
       "      <td>0</td>\n",
       "      <td>1</td>\n",
       "      <td>manager</td>\n",
       "      <td>Алло здравствуйте</td>\n",
       "    </tr>\n",
       "    <tr>\n",
       "      <th>1</th>\n",
       "      <td>0</td>\n",
       "      <td>3</td>\n",
       "      <td>manager</td>\n",
       "      <td>Меня зовут ангелина компания диджитал бизнес з...</td>\n",
       "    </tr>\n",
       "    <tr>\n",
       "      <th>2</th>\n",
       "      <td>0</td>\n",
       "      <td>5</td>\n",
       "      <td>manager</td>\n",
       "      <td>Угу ну возможно вы рассмотрите и другие вариан...</td>\n",
       "    </tr>\n",
       "    <tr>\n",
       "      <th>3</th>\n",
       "      <td>0</td>\n",
       "      <td>8</td>\n",
       "      <td>manager</td>\n",
       "      <td>Угу а на что вы обращаете внимание при выборе</td>\n",
       "    </tr>\n",
       "    <tr>\n",
       "      <th>4</th>\n",
       "      <td>0</td>\n",
       "      <td>11</td>\n",
       "      <td>manager</td>\n",
       "      <td>Что для вас приоритет</td>\n",
       "    </tr>\n",
       "  </tbody>\n",
       "</table>\n",
       "</div>"
      ],
      "text/plain": [
       "   dlg_id  line_n     role                                               text\n",
       "0       0       1  manager                                  Алло здравствуйте\n",
       "1       0       3  manager  Меня зовут ангелина компания диджитал бизнес з...\n",
       "2       0       5  manager  Угу ну возможно вы рассмотрите и другие вариан...\n",
       "3       0       8  manager      Угу а на что вы обращаете внимание при выборе\n",
       "4       0      11  manager                              Что для вас приоритет"
      ]
     },
     "execution_count": 4,
     "metadata": {},
     "output_type": "execute_result"
    }
   ],
   "source": [
    "# Произведем фильтрацию исходного дф по полю role, оставив только реплики менеджеров.\n",
    "# Далее будем работать с этим дф.\n",
    "\n",
    "df_manager = df.query('role == \"manager\"').reset_index(drop=True)\n",
    "df_manager.head(5)"
   ]
  },
  {
   "cell_type": "code",
   "execution_count": 5,
   "metadata": {},
   "outputs": [],
   "source": [
    "# Напишем функцию get_greeting, которая возвращает True, если в реплике\n",
    "# менеджера присутствуют приветственные слова и False в противном случае.\n",
    "\n",
    "def get_greeting(phrase_list):\n",
    "    \n",
    "    # Проверяем вхождение ключевых слов в реплику менеджера\n",
    "    if 'здравствуйте' in phrase_list:\n",
    "        return True\n",
    "    elif 'добрый' in phrase_list and 'день' in phrase_list:\n",
    "        return True\n",
    "    elif 'добрый' in phrase_list and 'вечер' in phrase_list:\n",
    "        return True\n",
    "    elif 'доброе' in phrase_list and 'утро' in phrase_list:\n",
    "        return True\n",
    "    elif 'приветствую' in phrase_list:\n",
    "        return True\n",
    "    else:\n",
    "        return False"
   ]
  },
  {
   "cell_type": "code",
   "execution_count": 6,
   "metadata": {},
   "outputs": [],
   "source": [
    "# Создаем новый столбец was_greeting, применив функцию get_greeting к текстовому столбцу df_manager.\n",
    "\n",
    "df_manager['was_greeting'] = df_manager.text.str.lower().str.split().apply(get_greeting)"
   ]
  },
  {
   "cell_type": "code",
   "execution_count": 7,
   "metadata": {},
   "outputs": [
    {
     "name": "stdout",
     "output_type": "stream",
     "text": [
      "Алло здравствуйте\n",
      "Алло дмитрий добрый день\n"
     ]
    }
   ],
   "source": [
    "# Наконец, фильтруем дф по созданному столбцу is_greeting и выводим уникальные приветственные реплики\n",
    "\n",
    "print(*df_manager.query('was_greeting == True').text.unique(), sep='\\n')"
   ]
  },
  {
   "cell_type": "markdown",
   "metadata": {},
   "source": [
    "### Задача №2. \n",
    "#### Извлечь реплики, в которых менеджер представился клиенту."
   ]
  },
  {
   "cell_type": "code",
   "execution_count": 8,
   "metadata": {},
   "outputs": [],
   "source": [
    "# Напишем функцию get_introduced, которая возвращает True, если в реплике\n",
    "# менеджера присутствуют ключевые слова и False в противном случае.\n",
    "\n",
    "def get_introduced(phrase_list):\n",
    "    \n",
    "    # Проверяем вхождение ключевых слов в реплику менеджера\n",
    "    if 'меня' in phrase_list and 'зовут' in phrase_list:\n",
    "        return True\n",
    "    elif 'мое' in phrase_list and 'имя' in phrase_list:\n",
    "        return True\n",
    "    elif 'да' in phrase_list and 'это' in phrase_list:\n",
    "        if phrase_list.index('да') - phrase_list.index('это') == -1:\n",
    "            return True\n",
    "    else:\n",
    "        return False"
   ]
  },
  {
   "cell_type": "code",
   "execution_count": 9,
   "metadata": {},
   "outputs": [],
   "source": [
    "# Создаем новый столбец was_introduced, применив функцию get_introduced к текстовому столбцу df_manager.\n",
    "\n",
    "df_manager['was_introduced'] = df_manager.text.str.lower().str.split().apply(get_introduced)"
   ]
  },
  {
   "cell_type": "code",
   "execution_count": 11,
   "metadata": {},
   "outputs": [
    {
     "name": "stdout",
     "output_type": "stream",
     "text": [
      "Меня зовут ангелина компания диджитал бизнес звоним вам по поводу продления лицензии а мы с серым у вас скоро срок заканчивается\n",
      "Меня зовут ангелина компания диджитал бизнес звоню вам по поводу продления а мы сели обратила внимание что у вас срок заканчивается\n",
      "Меня зовут ангелина компания диджитал бизнес звоню вам по поводу продления лицензии а мастера мы с вами сотрудничали по видео там\n",
      "Добрый меня максим зовут компания китобизнес удобно говорить\n",
      "Да это анастасия\n"
     ]
    }
   ],
   "source": [
    "# Наконец, фильтруем дф по созданному столбцу was_introduced и выводим реплики, в которых менеджер представился клиенту.\n",
    "\n",
    "print(*df_manager.query('was_introduced == True').text.unique(), sep='\\n')"
   ]
  },
  {
   "cell_type": "markdown",
   "metadata": {},
   "source": [
    "### Задача №3. \n",
    "#### Необходимо извлечь имя менеджера."
   ]
  },
  {
   "cell_type": "code",
   "execution_count": 12,
   "metadata": {},
   "outputs": [],
   "source": [
    "# Напишем функцию get_manager_name, которая возвращает имя менеджера, \n",
    "# если в реплике менеджера присутствуют ключевые слова.\n",
    "\n",
    "def get_manager_name(phrase_list):\n",
    "    \n",
    "    # Проверяем вхождение ключевых слов в реплику менеджера\n",
    "    if 'меня' in phrase_list and 'зовут' in phrase_list:\n",
    "        # Проверяем последовательность слов в реплике\n",
    "        if phrase_list.index('меня') - phrase_list.index('зовут') == -1:\n",
    "            manager_name = phrase_list.pop(phrase_list.index('зовут') + 1)\n",
    "            return manager_name.capitalize()\n",
    "        elif phrase_list.index('меня') - phrase_list.index('зовут') == -2:\n",
    "            manager_name = phrase_list.pop(phrase_list.index('зовут') - 1)\n",
    "            return manager_name.capitalize()\n",
    "    elif 'да' in phrase_list and 'это' in phrase_list:\n",
    "        if phrase_list.index('да') - phrase_list.index('это') == -1:\n",
    "            manager_name = phrase_list.pop(phrase_list.index('это') + 1)\n",
    "            return manager_name.capitalize()"
   ]
  },
  {
   "cell_type": "code",
   "execution_count": 13,
   "metadata": {},
   "outputs": [],
   "source": [
    "# Создаем новый столбец manager_name, применив функцию get_manager_name к текстовому столбцу df_manager.\n",
    "\n",
    "df_manager['manager_name'] = df_manager.text.str.lower().str.split().apply(get_manager_name)"
   ]
  },
  {
   "cell_type": "code",
   "execution_count": 14,
   "metadata": {},
   "outputs": [
    {
     "name": "stdout",
     "output_type": "stream",
     "text": [
      "Ангелина, Максим, Анастасия\n"
     ]
    }
   ],
   "source": [
    "# Выводим все имена менеджеров, которые представились клиентам.\n",
    "\n",
    "print(*df_manager[~df_manager.manager_name.isnull()].manager_name.unique(), sep=', ')\n"
   ]
  },
  {
   "cell_type": "markdown",
   "metadata": {},
   "source": [
    "### Задача №4. \n",
    "#### Необходимо извлечь название компании."
   ]
  },
  {
   "cell_type": "code",
   "execution_count": 15,
   "metadata": {},
   "outputs": [],
   "source": [
    "# Напишем функцию get_company_name, которая возвращает название компании, \n",
    "# если оно упоминалось в реплике менеджера.\n",
    "\n",
    "def get_company_name(phrase_list):\n",
    "    \n",
    "    # Проверяем вхождение ключевых слов в реплику менеджера\n",
    "    if 'компания' in phrase_list:\n",
    "        company_name = phrase_list.pop(phrase_list.index('компания') + 1)\n",
    "        if company_name == 'диджитал':\n",
    "            return 'Диджитал бизнес'\n",
    "        elif company_name == 'китобизнес':\n",
    "            return 'Китобизнес'"
   ]
  },
  {
   "cell_type": "code",
   "execution_count": 16,
   "metadata": {},
   "outputs": [],
   "source": [
    "# Создаем новый столбец company_name, применив функцию get_company_name к текстовому столбцу df_manager.\n",
    "\n",
    "df_manager['company_name'] = df_manager.text.str.lower().str.split().apply(get_company_name)"
   ]
  },
  {
   "cell_type": "code",
   "execution_count": 17,
   "metadata": {},
   "outputs": [
    {
     "name": "stdout",
     "output_type": "stream",
     "text": [
      "Диджитал бизнес, Китобизнес\n"
     ]
    }
   ],
   "source": [
    "# Выводим все названия компаний, которые менеджеры представили во время разговора.\n",
    "\n",
    "print(*df_manager[~df_manager.company_name.isnull()].company_name.unique(), sep=', ')"
   ]
  },
  {
   "cell_type": "markdown",
   "metadata": {},
   "source": [
    "### Задача №5. \n",
    "#### Извлечь реплики, в которых менеджер попрощался с клиентом."
   ]
  },
  {
   "cell_type": "code",
   "execution_count": 18,
   "metadata": {},
   "outputs": [],
   "source": [
    "# Напишем функцию get_goodbye, которая возвращает True, если в реплике\n",
    "# менеджера присутствуют ключевые слова и False в противном случае.\n",
    "\n",
    "def get_goodbye(phrase_list):\n",
    "    \n",
    "    # Проверяем вхождение ключевых слов в реплику менеджера\n",
    "    if 'до' in phrase_list and 'свидания' in phrase_list:\n",
    "        return True\n",
    "    elif 'всего' in phrase_list and 'доброго' in phrase_list:\n",
    "        return True\n",
    "    elif 'до' in phrase_list and 'встречи' in phrase_list:\n",
    "        return True\n",
    "    else:\n",
    "        return False"
   ]
  },
  {
   "cell_type": "code",
   "execution_count": 19,
   "metadata": {},
   "outputs": [],
   "source": [
    "# Создаем новый столбец said_goodbye, применив функцию get_goodbye к текстовому столбцу df_manager.\n",
    "\n",
    "df_manager['said_goodbye'] = df_manager.text.str.lower().str.split().apply(get_goodbye)"
   ]
  },
  {
   "cell_type": "code",
   "execution_count": 20,
   "metadata": {},
   "outputs": [
    {
     "name": "stdout",
     "output_type": "stream",
     "text": [
      "Всего хорошего до свидания\n",
      "До свидания\n",
      "Угу все хорошо да понедельника тогда всего доброго\n",
      "Во вторник все ну с вами да тогда до вторника до свидания\n",
      "Ну до свидания хорошего вечера\n"
     ]
    }
   ],
   "source": [
    "# Наконец, фильтруем дф по созданному столбцу said_goodbye и выводим прощальные реплики.\n",
    "\n",
    "print(*df_manager.query('said_goodbye == True').text.unique(), sep='\\n')"
   ]
  },
  {
   "cell_type": "markdown",
   "metadata": {},
   "source": [
    "### Задача №6. \n",
    "#### Проверка требований к менеджерам."
   ]
  },
  {
   "cell_type": "code",
   "execution_count": 21,
   "metadata": {},
   "outputs": [],
   "source": [
    "# Необходимо проверить следующее требование к менеджеру: \n",
    "# «В каждом диалоге обязательно необходимо поздороваться и попрощаться с клиентом»"
   ]
  },
  {
   "cell_type": "code",
   "execution_count": 22,
   "metadata": {},
   "outputs": [
    {
     "data": {
      "text/html": [
       "<div>\n",
       "<style scoped>\n",
       "    .dataframe tbody tr th:only-of-type {\n",
       "        vertical-align: middle;\n",
       "    }\n",
       "\n",
       "    .dataframe tbody tr th {\n",
       "        vertical-align: top;\n",
       "    }\n",
       "\n",
       "    .dataframe thead th {\n",
       "        text-align: right;\n",
       "    }\n",
       "</style>\n",
       "<table border=\"1\" class=\"dataframe\">\n",
       "  <thead>\n",
       "    <tr style=\"text-align: right;\">\n",
       "      <th></th>\n",
       "      <th>dlg_id</th>\n",
       "      <th>line_n</th>\n",
       "      <th>role</th>\n",
       "      <th>text</th>\n",
       "      <th>was_greeting</th>\n",
       "      <th>was_introduced</th>\n",
       "      <th>manager_name</th>\n",
       "      <th>company_name</th>\n",
       "      <th>said_goodbye</th>\n",
       "    </tr>\n",
       "  </thead>\n",
       "  <tbody>\n",
       "    <tr>\n",
       "      <th>0</th>\n",
       "      <td>0</td>\n",
       "      <td>1</td>\n",
       "      <td>manager</td>\n",
       "      <td>Алло здравствуйте</td>\n",
       "      <td>True</td>\n",
       "      <td>False</td>\n",
       "      <td>None</td>\n",
       "      <td>None</td>\n",
       "      <td>False</td>\n",
       "    </tr>\n",
       "    <tr>\n",
       "      <th>1</th>\n",
       "      <td>0</td>\n",
       "      <td>3</td>\n",
       "      <td>manager</td>\n",
       "      <td>Меня зовут ангелина компания диджитал бизнес з...</td>\n",
       "      <td>False</td>\n",
       "      <td>True</td>\n",
       "      <td>Ангелина</td>\n",
       "      <td>Диджитал бизнес</td>\n",
       "      <td>False</td>\n",
       "    </tr>\n",
       "    <tr>\n",
       "      <th>2</th>\n",
       "      <td>0</td>\n",
       "      <td>5</td>\n",
       "      <td>manager</td>\n",
       "      <td>Угу ну возможно вы рассмотрите и другие вариан...</td>\n",
       "      <td>False</td>\n",
       "      <td>False</td>\n",
       "      <td>None</td>\n",
       "      <td>None</td>\n",
       "      <td>False</td>\n",
       "    </tr>\n",
       "    <tr>\n",
       "      <th>3</th>\n",
       "      <td>0</td>\n",
       "      <td>8</td>\n",
       "      <td>manager</td>\n",
       "      <td>Угу а на что вы обращаете внимание при выборе</td>\n",
       "      <td>False</td>\n",
       "      <td>False</td>\n",
       "      <td>None</td>\n",
       "      <td>None</td>\n",
       "      <td>False</td>\n",
       "    </tr>\n",
       "    <tr>\n",
       "      <th>4</th>\n",
       "      <td>0</td>\n",
       "      <td>11</td>\n",
       "      <td>manager</td>\n",
       "      <td>Что для вас приоритет</td>\n",
       "      <td>False</td>\n",
       "      <td>False</td>\n",
       "      <td>None</td>\n",
       "      <td>None</td>\n",
       "      <td>False</td>\n",
       "    </tr>\n",
       "    <tr>\n",
       "      <th>...</th>\n",
       "      <td>...</td>\n",
       "      <td>...</td>\n",
       "      <td>...</td>\n",
       "      <td>...</td>\n",
       "      <td>...</td>\n",
       "      <td>...</td>\n",
       "      <td>...</td>\n",
       "      <td>...</td>\n",
       "      <td>...</td>\n",
       "    </tr>\n",
       "    <tr>\n",
       "      <th>196</th>\n",
       "      <td>5</td>\n",
       "      <td>135</td>\n",
       "      <td>manager</td>\n",
       "      <td>Так дмитрий</td>\n",
       "      <td>False</td>\n",
       "      <td>False</td>\n",
       "      <td>None</td>\n",
       "      <td>None</td>\n",
       "      <td>False</td>\n",
       "    </tr>\n",
       "    <tr>\n",
       "      <th>197</th>\n",
       "      <td>5</td>\n",
       "      <td>136</td>\n",
       "      <td>manager</td>\n",
       "      <td>Все записала тогда завтра ждите звонка</td>\n",
       "      <td>False</td>\n",
       "      <td>False</td>\n",
       "      <td>None</td>\n",
       "      <td>None</td>\n",
       "      <td>False</td>\n",
       "    </tr>\n",
       "    <tr>\n",
       "      <th>198</th>\n",
       "      <td>5</td>\n",
       "      <td>138</td>\n",
       "      <td>manager</td>\n",
       "      <td>По поводу виджетов и с ними уже обсудите конкр...</td>\n",
       "      <td>False</td>\n",
       "      <td>False</td>\n",
       "      <td>None</td>\n",
       "      <td>None</td>\n",
       "      <td>False</td>\n",
       "    </tr>\n",
       "    <tr>\n",
       "      <th>199</th>\n",
       "      <td>5</td>\n",
       "      <td>139</td>\n",
       "      <td>manager</td>\n",
       "      <td>Все я вам высылаю счет и с вами на связи если ...</td>\n",
       "      <td>False</td>\n",
       "      <td>False</td>\n",
       "      <td>None</td>\n",
       "      <td>None</td>\n",
       "      <td>False</td>\n",
       "    </tr>\n",
       "    <tr>\n",
       "      <th>200</th>\n",
       "      <td>5</td>\n",
       "      <td>142</td>\n",
       "      <td>manager</td>\n",
       "      <td>Ну до свидания хорошего вечера</td>\n",
       "      <td>False</td>\n",
       "      <td>False</td>\n",
       "      <td>None</td>\n",
       "      <td>None</td>\n",
       "      <td>True</td>\n",
       "    </tr>\n",
       "  </tbody>\n",
       "</table>\n",
       "<p>201 rows × 9 columns</p>\n",
       "</div>"
      ],
      "text/plain": [
       "     dlg_id  line_n     role  \\\n",
       "0         0       1  manager   \n",
       "1         0       3  manager   \n",
       "2         0       5  manager   \n",
       "3         0       8  manager   \n",
       "4         0      11  manager   \n",
       "..      ...     ...      ...   \n",
       "196       5     135  manager   \n",
       "197       5     136  manager   \n",
       "198       5     138  manager   \n",
       "199       5     139  manager   \n",
       "200       5     142  manager   \n",
       "\n",
       "                                                  text  was_greeting  \\\n",
       "0                                    Алло здравствуйте          True   \n",
       "1    Меня зовут ангелина компания диджитал бизнес з...         False   \n",
       "2    Угу ну возможно вы рассмотрите и другие вариан...         False   \n",
       "3        Угу а на что вы обращаете внимание при выборе         False   \n",
       "4                                Что для вас приоритет         False   \n",
       "..                                                 ...           ...   \n",
       "196                                        Так дмитрий         False   \n",
       "197             Все записала тогда завтра ждите звонка         False   \n",
       "198  По поводу виджетов и с ними уже обсудите конкр...         False   \n",
       "199  Все я вам высылаю счет и с вами на связи если ...         False   \n",
       "200                     Ну до свидания хорошего вечера         False   \n",
       "\n",
       "    was_introduced manager_name     company_name  said_goodbye  \n",
       "0            False         None             None         False  \n",
       "1             True     Ангелина  Диджитал бизнес         False  \n",
       "2            False         None             None         False  \n",
       "3            False         None             None         False  \n",
       "4            False         None             None         False  \n",
       "..             ...          ...              ...           ...  \n",
       "196          False         None             None         False  \n",
       "197          False         None             None         False  \n",
       "198          False         None             None         False  \n",
       "199          False         None             None         False  \n",
       "200          False         None             None          True  \n",
       "\n",
       "[201 rows x 9 columns]"
      ]
     },
     "execution_count": 22,
     "metadata": {},
     "output_type": "execute_result"
    }
   ],
   "source": [
    "df_manager"
   ]
  },
  {
   "cell_type": "code",
   "execution_count": 23,
   "metadata": {
    "scrolled": true
   },
   "outputs": [],
   "source": [
    "# Группируем df_manager по столбцу dlg_id\n",
    "\n",
    "df_grouped = df_manager.groupby('dlg_id').agg({'was_greeting': 'sum',\n",
    "                                 'was_introduced': 'sum',\n",
    "                                 'manager_name': 'unique',\n",
    "                                 'company_name': 'unique',\n",
    "                                 'said_goodbye': 'sum'})"
   ]
  },
  {
   "cell_type": "code",
   "execution_count": 24,
   "metadata": {},
   "outputs": [],
   "source": [
    "# Преобразуем значения в столбцах manager_name и company_name"
   ]
  },
  {
   "cell_type": "code",
   "execution_count": 25,
   "metadata": {},
   "outputs": [],
   "source": [
    "manager_names = []\n",
    "\n",
    "for values in df_grouped.manager_name:\n",
    "    if len(values) == 2:\n",
    "        for value in values:\n",
    "            if pd.notnull(value):\n",
    "                manager_names.append(value)\n",
    "    else:\n",
    "        manager_names.append(*values)"
   ]
  },
  {
   "cell_type": "code",
   "execution_count": 26,
   "metadata": {},
   "outputs": [],
   "source": [
    "company_names = []\n",
    "\n",
    "for values in df_grouped.company_name:\n",
    "    if len(values) == 2:\n",
    "        for value in values:\n",
    "            if pd.notnull(value):\n",
    "                company_names.append(value)\n",
    "    else:\n",
    "        company_names.append(*values)"
   ]
  },
  {
   "cell_type": "code",
   "execution_count": 27,
   "metadata": {},
   "outputs": [],
   "source": [
    "df_grouped['manager_name'] = manager_names\n",
    "df_grouped['company_name'] = company_names"
   ]
  },
  {
   "cell_type": "code",
   "execution_count": 28,
   "metadata": {},
   "outputs": [
    {
     "data": {
      "text/html": [
       "<div>\n",
       "<style scoped>\n",
       "    .dataframe tbody tr th:only-of-type {\n",
       "        vertical-align: middle;\n",
       "    }\n",
       "\n",
       "    .dataframe tbody tr th {\n",
       "        vertical-align: top;\n",
       "    }\n",
       "\n",
       "    .dataframe thead th {\n",
       "        text-align: right;\n",
       "    }\n",
       "</style>\n",
       "<table border=\"1\" class=\"dataframe\">\n",
       "  <thead>\n",
       "    <tr style=\"text-align: right;\">\n",
       "      <th></th>\n",
       "      <th>was_greeting</th>\n",
       "      <th>was_introduced</th>\n",
       "      <th>manager_name</th>\n",
       "      <th>company_name</th>\n",
       "      <th>said_goodbye</th>\n",
       "    </tr>\n",
       "    <tr>\n",
       "      <th>dlg_id</th>\n",
       "      <th></th>\n",
       "      <th></th>\n",
       "      <th></th>\n",
       "      <th></th>\n",
       "      <th></th>\n",
       "    </tr>\n",
       "  </thead>\n",
       "  <tbody>\n",
       "    <tr>\n",
       "      <th>0</th>\n",
       "      <td>1</td>\n",
       "      <td>1</td>\n",
       "      <td>Ангелина</td>\n",
       "      <td>Диджитал бизнес</td>\n",
       "      <td>1</td>\n",
       "    </tr>\n",
       "    <tr>\n",
       "      <th>1</th>\n",
       "      <td>1</td>\n",
       "      <td>1</td>\n",
       "      <td>Ангелина</td>\n",
       "      <td>Диджитал бизнес</td>\n",
       "      <td>1</td>\n",
       "    </tr>\n",
       "    <tr>\n",
       "      <th>2</th>\n",
       "      <td>1</td>\n",
       "      <td>1</td>\n",
       "      <td>Ангелина</td>\n",
       "      <td>Диджитал бизнес</td>\n",
       "      <td>0</td>\n",
       "    </tr>\n",
       "    <tr>\n",
       "      <th>3</th>\n",
       "      <td>1</td>\n",
       "      <td>1</td>\n",
       "      <td>Максим</td>\n",
       "      <td>Китобизнес</td>\n",
       "      <td>1</td>\n",
       "    </tr>\n",
       "    <tr>\n",
       "      <th>4</th>\n",
       "      <td>0</td>\n",
       "      <td>0</td>\n",
       "      <td>None</td>\n",
       "      <td>None</td>\n",
       "      <td>1</td>\n",
       "    </tr>\n",
       "    <tr>\n",
       "      <th>5</th>\n",
       "      <td>0</td>\n",
       "      <td>1</td>\n",
       "      <td>Анастасия</td>\n",
       "      <td>None</td>\n",
       "      <td>1</td>\n",
       "    </tr>\n",
       "  </tbody>\n",
       "</table>\n",
       "</div>"
      ],
      "text/plain": [
       "        was_greeting  was_introduced manager_name     company_name  \\\n",
       "dlg_id                                                               \n",
       "0                  1               1     Ангелина  Диджитал бизнес   \n",
       "1                  1               1     Ангелина  Диджитал бизнес   \n",
       "2                  1               1     Ангелина  Диджитал бизнес   \n",
       "3                  1               1       Максим       Китобизнес   \n",
       "4                  0               0         None             None   \n",
       "5                  0               1    Анастасия             None   \n",
       "\n",
       "        said_goodbye  \n",
       "dlg_id                \n",
       "0                  1  \n",
       "1                  1  \n",
       "2                  0  \n",
       "3                  1  \n",
       "4                  1  \n",
       "5                  1  "
      ]
     },
     "execution_count": 28,
     "metadata": {},
     "output_type": "execute_result"
    }
   ],
   "source": [
    "# Сгруппированный дф по dlg_id выглядит следующим образом:\n",
    "\n",
    "df_grouped"
   ]
  },
  {
   "cell_type": "code",
   "execution_count": 29,
   "metadata": {},
   "outputs": [
    {
     "data": {
      "text/html": [
       "<div>\n",
       "<style scoped>\n",
       "    .dataframe tbody tr th:only-of-type {\n",
       "        vertical-align: middle;\n",
       "    }\n",
       "\n",
       "    .dataframe tbody tr th {\n",
       "        vertical-align: top;\n",
       "    }\n",
       "\n",
       "    .dataframe thead th {\n",
       "        text-align: right;\n",
       "    }\n",
       "</style>\n",
       "<table border=\"1\" class=\"dataframe\">\n",
       "  <thead>\n",
       "    <tr style=\"text-align: right;\">\n",
       "      <th></th>\n",
       "      <th>was_greeting</th>\n",
       "      <th>was_introduced</th>\n",
       "      <th>manager_name</th>\n",
       "      <th>company_name</th>\n",
       "      <th>said_goodbye</th>\n",
       "    </tr>\n",
       "    <tr>\n",
       "      <th>dlg_id</th>\n",
       "      <th></th>\n",
       "      <th></th>\n",
       "      <th></th>\n",
       "      <th></th>\n",
       "      <th></th>\n",
       "    </tr>\n",
       "  </thead>\n",
       "  <tbody>\n",
       "    <tr>\n",
       "      <th>0</th>\n",
       "      <td>1</td>\n",
       "      <td>1</td>\n",
       "      <td>Ангелина</td>\n",
       "      <td>Диджитал бизнес</td>\n",
       "      <td>1</td>\n",
       "    </tr>\n",
       "    <tr>\n",
       "      <th>1</th>\n",
       "      <td>1</td>\n",
       "      <td>1</td>\n",
       "      <td>Ангелина</td>\n",
       "      <td>Диджитал бизнес</td>\n",
       "      <td>1</td>\n",
       "    </tr>\n",
       "    <tr>\n",
       "      <th>3</th>\n",
       "      <td>1</td>\n",
       "      <td>1</td>\n",
       "      <td>Максим</td>\n",
       "      <td>Китобизнес</td>\n",
       "      <td>1</td>\n",
       "    </tr>\n",
       "  </tbody>\n",
       "</table>\n",
       "</div>"
      ],
      "text/plain": [
       "        was_greeting  was_introduced manager_name     company_name  \\\n",
       "dlg_id                                                               \n",
       "0                  1               1     Ангелина  Диджитал бизнес   \n",
       "1                  1               1     Ангелина  Диджитал бизнес   \n",
       "3                  1               1       Максим       Китобизнес   \n",
       "\n",
       "        said_goodbye  \n",
       "dlg_id                \n",
       "0                  1  \n",
       "1                  1  \n",
       "3                  1  "
      ]
     },
     "execution_count": 29,
     "metadata": {},
     "output_type": "execute_result"
    }
   ],
   "source": [
    "# Произведем проверку требований к менеджеру: «В каждом диалоге обязательно необходимо поздороваться и попрощаться с клиентом»\n",
    "\n",
    "df_grouped.query('was_greeting == 1 and said_goodbye == 1')"
   ]
  },
  {
   "cell_type": "code",
   "execution_count": 221,
   "metadata": {},
   "outputs": [],
   "source": [
    "# Как видно из таблиц выше, менеджер Ангелина из компании \"Диджитал бизнес\" поздоровалась и попрощалась с клиентами в двух\n",
    "# диалогах из трёх, в то время как менеджер Максим из компании \"Китобизнес\" полностью выполнил требование о приветствии и \n",
    "# прощании с клиентом в своём единственном диалоге."
   ]
  }
 ],
 "metadata": {
  "kernelspec": {
   "display_name": "Python 3",
   "language": "python",
   "name": "python3"
  },
  "language_info": {
   "codemirror_mode": {
    "name": "ipython",
    "version": 3
   },
   "file_extension": ".py",
   "mimetype": "text/x-python",
   "name": "python",
   "nbconvert_exporter": "python",
   "pygments_lexer": "ipython3",
   "version": "3.7.3"
  }
 },
 "nbformat": 4,
 "nbformat_minor": 4
}
